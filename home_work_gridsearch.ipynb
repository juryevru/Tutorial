{
 "cells": [
  {
   "cell_type": "code",
   "execution_count": 1,
   "metadata": {
    "collapsed": true
   },
   "outputs": [],
   "source": [
    "import numpy as np\n",
    "import pandas as pd\n",
    "from sklearn.tree import DecisionTreeClassifier, DecisionTreeRegressor\n",
    "from sklearn.neighbors import KNeighborsClassifier, KNeighborsRegressor\n",
    "from sklearn.ensemble import RandomForestClassifier, RandomForestRegressor\n",
    "from sklearn.preprocessing import MinMaxScaler\n",
    "from sklearn.metrics import accuracy_score, make_scorer, mean_squared_error \n",
    "from sklearn.model_selection import GridSearchCV, StratifiedKFold\n",
    "from sklearn import datasets"
   ]
  },
  {
   "cell_type": "code",
   "execution_count": 2,
   "metadata": {
    "collapsed": false
   },
   "outputs": [],
   "source": [
    "boston_X, boston_Y = datasets.load_boston(return_X_y=True)\n",
    "boston_X=pd.DataFrame(boston_X)\n",
    "boston_Y=pd.Series(boston_Y)\n",
    "\n",
    "titanic_X = pd.read_csv(\"train.csv\")\n",
    "titanic_Y = titanic_X[\"Survived\"]\n",
    "titanic_X.drop(\"Survived\", axis=1, inplace=True)\n",
    "\n",
    "digits_X, digits_Y = datasets.load_digits(return_X_y=True)\n",
    "digits_X=pd.DataFrame(digits_X)\n",
    "digits_Y=pd.Series(digits_Y)\n",
    "\n",
    "iris_X, iris_Y = datasets.load_iris(return_X_y=True)\n",
    "iris_X=pd.DataFrame(iris_X)\n",
    "iris_Y=pd.Series(iris_Y)\n",
    "\n",
    "dataset = [[iris_X,iris_Y,'iris'],[boston_X,boston_Y,'boston'],[digits_X,digits_Y,'digits']]"
   ]
  },
  {
   "cell_type": "code",
   "execution_count": 3,
   "metadata": {
    "collapsed": false
   },
   "outputs": [],
   "source": [
    "RFR = RandomForestRegressor()\n",
    "parametersRFR = {'n_estimators':range(2,10),'max_depth':range(2,5)}\n",
    "kNN = KNeighborsRegressor()\n",
    "parameterskNN = {'n_neighbors':range(2,10), 'p':range(2,5)}\n",
    "DTR = DecisionTreeRegressor()\n",
    "parametersDTR = {'min_samples_split':range(2,10), 'min_samples_leaf':range(2,10),'max_depth':range(2,5)}"
   ]
  },
  {
   "cell_type": "code",
   "execution_count": 4,
   "metadata": {
    "collapsed": false
   },
   "outputs": [
    {
     "name": "stdout",
     "output_type": "stream",
     "text": [
      "iris\n",
      "RFR best parameters:  {'max_depth': 2, 'n_estimators': 2}\n",
      "kNN best parameters:  {'max_depth': 2, 'min_samples_leaf': 2, 'min_samples_split': 2}\n",
      "kNN best parameters:  {'n_neighbors': 2, 'p': 2}\n",
      "boston\n",
      "RFR best parameters:  {'max_depth': 4, 'n_estimators': 7}\n",
      "kNN best parameters:  {'max_depth': 4, 'min_samples_leaf': 4, 'min_samples_split': 5}\n",
      "kNN best parameters:  {'n_neighbors': 6, 'p': 2}\n",
      "digits\n",
      "RFR best parameters:  {'max_depth': 4, 'n_estimators': 7}\n",
      "kNN best parameters:  {'max_depth': 4, 'min_samples_leaf': 2, 'min_samples_split': 4}\n",
      "kNN best parameters:  {'n_neighbors': 3, 'p': 2}\n"
     ]
    }
   ],
   "source": [
    "for i in dataset:\n",
    "    print(i[2])\n",
    "    print('RFR best parameters: ', GridSearchCV(estimator=RFR,param_grid=parametersRFR).fit(i[0],i[1]).best_params_)\n",
    "    print('kNN best parameters: ',GridSearchCV(estimator=DTR,param_grid=parametersDTR).fit(i[0],i[1]).best_params_)\n",
    "    print('kNN best parameters: ',GridSearchCV(estimator=kNN,param_grid=parameterskNN).fit(i[0],i[1]).best_params_)"
   ]
  }
 ],
 "metadata": {
  "kernelspec": {
   "display_name": "Python 3",
   "language": "python",
   "name": "python3"
  },
  "language_info": {
   "codemirror_mode": {
    "name": "ipython",
    "version": 3
   },
   "file_extension": ".py",
   "mimetype": "text/x-python",
   "name": "python",
   "nbconvert_exporter": "python",
   "pygments_lexer": "ipython3",
   "version": "3.6.0"
  }
 },
 "nbformat": 4,
 "nbformat_minor": 2
}
